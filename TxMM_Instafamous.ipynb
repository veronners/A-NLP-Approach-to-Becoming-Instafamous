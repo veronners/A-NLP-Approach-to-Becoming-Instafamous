{
  "nbformat": 4,
  "nbformat_minor": 0,
  "metadata": {
    "colab": {
      "name": "TxMM_Instafamous.ipynb",
      "provenance": [],
      "collapsed_sections": [],
      "toc_visible": true
    },
    "kernelspec": {
      "name": "python3",
      "display_name": "Python 3"
    }
  },
  "cells": [
    {
      "cell_type": "markdown",
      "metadata": {
        "id": "2SAqpedyVP_R"
      },
      "source": [
        "#TxMM Project: A NLP approach to Becoming Instafamous\r\n",
        "s4603478\r\n",
        "\r\n",
        "Radboud University, Nijmegen, the Netherlands"
      ]
    },
    {
      "cell_type": "code",
      "metadata": {
        "colab": {
          "base_uri": "https://localhost:8080/"
        },
        "id": "8-509QwpnFZC",
        "outputId": "035a35a3-d730-4118-fed6-d17fc1407007"
      },
      "source": [
        "!pip install emosent-py"
      ],
      "execution_count": 1,
      "outputs": [
        {
          "output_type": "stream",
          "text": [
            "Collecting emosent-py\n",
            "  Downloading https://files.pythonhosted.org/packages/3b/d7/00c5117b7f81c53d764520e0a5032e678f1b3e54daee60308a9bfe6a94d9/emosent-py-0.1.6.tar.gz\n",
            "Building wheels for collected packages: emosent-py\n",
            "  Building wheel for emosent-py (setup.py) ... \u001b[?25l\u001b[?25hdone\n",
            "  Created wheel for emosent-py: filename=emosent_py-0.1.6-cp36-none-any.whl size=28503 sha256=be9d3fd17b8f6c00746abccf27b92d4d91b0322696d9beab8f4dfaf873388a39\n",
            "  Stored in directory: /root/.cache/pip/wheels/46/32/3c/2e21c3622b77cdc89a38a711240588ac3cf9b8e805eed0f6e1\n",
            "Successfully built emosent-py\n",
            "Installing collected packages: emosent-py\n",
            "Successfully installed emosent-py-0.1.6\n"
          ],
          "name": "stdout"
        }
      ]
    },
    {
      "cell_type": "code",
      "metadata": {
        "colab": {
          "base_uri": "https://localhost:8080/"
        },
        "id": "4kNznivLiPbw",
        "outputId": "aaa7654d-517c-4e0a-b0ee-a78389abe270"
      },
      "source": [
        "import pandas as pd\r\n",
        "pd.options.mode.chained_assignment = None\r\n",
        "import numpy as np\r\n",
        "from numpy import mean, std\r\n",
        "import re\r\n",
        "import nltk\r\n",
        "from nltk.stem import WordNetLemmatizer \r\n",
        "from nltk.tokenize import word_tokenize, wordpunct_tokenize, sent_tokenize\r\n",
        "from nltk.sentiment.vader import SentimentIntensityAnalyzer\r\n",
        "from nltk.corpus import stopwords\r\n",
        "import matplotlib.pyplot as plt\r\n",
        "import codecs\r\n",
        "from string import punctuation\r\n",
        "from sklearn import preprocessing\r\n",
        "from sklearn.feature_extraction.text import TfidfVectorizer\r\n",
        "from sklearn.model_selection import train_test_split\r\n",
        "from sklearn.ensemble import RandomForestClassifier\r\n",
        "from sklearn.metrics import classification_report, confusion_matrix, accuracy_score\r\n",
        "from scipy.stats import spearmanr, ttest_ind, pearsonr\r\n",
        "from scipy.stats.distributions import norm\r\n",
        "import functools\r\n",
        "import math\r\n",
        "from emosent import get_emoji_sentiment_rank\r\n",
        "\r\n",
        "import warnings\r\n",
        "from sklearn.exceptions import UndefinedMetricWarning\r\n",
        "warnings.filterwarnings(action='ignore', category=UndefinedMetricWarning)\r\n",
        "\r\n",
        "nltk.download('vader_lexicon')\r\n",
        "nltk.download('punkt')\r\n",
        "nltk.download('averaged_perceptron_tagger')\r\n",
        "nltk.download('wordnet')\r\n",
        "nltk.download('stopwords')\r\n",
        "stop_words = set(stopwords.words('english'))"
      ],
      "execution_count": 22,
      "outputs": [
        {
          "output_type": "stream",
          "text": [
            "[nltk_data] Downloading package vader_lexicon to /root/nltk_data...\n",
            "[nltk_data]   Package vader_lexicon is already up-to-date!\n",
            "[nltk_data] Downloading package punkt to /root/nltk_data...\n",
            "[nltk_data]   Package punkt is already up-to-date!\n",
            "[nltk_data] Downloading package averaged_perceptron_tagger to\n",
            "[nltk_data]     /root/nltk_data...\n",
            "[nltk_data]   Package averaged_perceptron_tagger is already up-to-\n",
            "[nltk_data]       date!\n",
            "[nltk_data] Downloading package wordnet to /root/nltk_data...\n",
            "[nltk_data]   Package wordnet is already up-to-date!\n",
            "[nltk_data] Downloading package stopwords to /root/nltk_data...\n",
            "[nltk_data]   Package stopwords is already up-to-date!\n"
          ],
          "name": "stdout"
        }
      ]
    },
    {
      "cell_type": "markdown",
      "metadata": {
        "id": "JzvebQ52f6wH"
      },
      "source": [
        "##Scraping Instagram Data"
      ]
    },
    {
      "cell_type": "markdown",
      "metadata": {
        "id": "9sQkG5ZmVxxC"
      },
      "source": [
        "The *generate_data()* function sends a request for all accounts in the file **account_link.xlsx** by using the package 'Instagramy'. Once the account is scraped, the 12 most recent posts are requested as well and added to the **all_data.xlsx** file. With this the following is saved:\r\n",
        "\r\n",
        "\r\n",
        "*   Account name\r\n",
        "*   Number of followers\r\n",
        "*   Number of accounts following\r\n",
        "*   Total amount of posts\r\n",
        "*   Post URL\r\n",
        "*   Post caption/description\r\n",
        "*   Post type (video or image)\r\n",
        "*   Number of likes\r\n",
        "*   Number of comments"
      ]
    },
    {
      "cell_type": "code",
      "metadata": {
        "id": "XiPyV34mfqdP"
      },
      "source": [
        "# Not necessary to execute anymore, data is already in data/data.xlsx\r\n",
        "def generate_data():\r\n",
        "    df_accounts = pd.read_excel(\"data/account_link.xlsx\")\r\n",
        "    for row in df_accounts['account_link']:\r\n",
        "        account_name = row.split(\".com/\", 1)[1].split(\"/\", 1)[0]\r\n",
        "        user = InstagramUser(account_name)\r\n",
        "        followers = user.number_of_followers\r\n",
        "        following = user.number_of_followings\r\n",
        "        total_posts = user.number_of_posts\r\n",
        "        posts = user.posts\r\n",
        "        for post in posts:\r\n",
        "            print(account_name + \": post-\" + str(posts.index(post)))\r\n",
        "            df_data = pd.read_excel(\"data/all_data.xlsx\")\r\n",
        "            post_url = post['post_url']\r\n",
        "            if post['is_video']:\r\n",
        "                post_type = \"Video\"\r\n",
        "            else:\r\n",
        "                post_type = \"Image\"\r\n",
        "            post_code = post_url.split(\".com/p/\", 1)[1].split(\"/\", 1)[0]\r\n",
        "            ps = InstagramPost(post_code)\r\n",
        "            description = ps.caption\r\n",
        "            likes = ps.number_of_likes\r\n",
        "            comments = ps.number_of_comments\r\n",
        "            data_row = {'account_name': account_name, 'followers': followers, 'following': following, 'amount_of_posts': total_posts, 'message_link': post_url, 'message': description, 'message_type': post_type, 'n_likes': likes, 'n_comments': comments, 'n_hashtags': \"\", 'sentiment.py': \"\"}\r\n",
        "            df_data = df_data.append(data_row, ignore_index=True)\r\n",
        "            df_data.to_excel(\"data/all_data.xlsx\", index=False)"
      ],
      "execution_count": null,
      "outputs": []
    },
    {
      "cell_type": "markdown",
      "metadata": {
        "id": "5KKo-uE9FgrG"
      },
      "source": [
        "Select 500 posts for training"
      ]
    },
    {
      "cell_type": "code",
      "metadata": {
        "id": "O-54WQwvFrg9"
      },
      "source": [
        "#df = pd.read_excel(\"data/all_data.xlsx\")\r\n",
        "#new_df = df.sample(n=500)\r\n",
        "\r\n",
        "#new_df.to_excel(\"data/labelled_data.xlsx\")"
      ],
      "execution_count": null,
      "outputs": []
    },
    {
      "cell_type": "markdown",
      "metadata": {
        "id": "dnPS3RvwgBkT"
      },
      "source": [
        "##Supervised Sentiment Analysis"
      ]
    },
    {
      "cell_type": "markdown",
      "metadata": {
        "id": "e9dkxsWVZZKU"
      },
      "source": [
        "To start of a classifier was trained one 400 labelled posts. Preprocessing consisted of computing the emoji sentiment in the message, cleaning the text, remove all POS tags that are not relevant for the content of the message, and converting the text to a vector with TF-IDF."
      ]
    },
    {
      "cell_type": "code",
      "metadata": {
        "colab": {
          "base_uri": "https://localhost:8080/",
          "height": 279
        },
        "id": "8JU-PSjAgIgA",
        "outputId": "ecf5fe3b-1bc7-4d50-d246-4778e5b43f30"
      },
      "source": [
        "df = pd.read_excel(\"data/labelled_data.xlsx\", index_col=0)\r\n",
        "\r\n",
        "plt.hist(df['sentiment'], bins=5, range=(0.5, 5.5), color='#6E6E6E', alpha=0.7, rwidth=0.85)\r\n",
        "plt.xlabel('Sentiment')\r\n",
        "plt.ylabel('Frequency')\r\n",
        "plt.show()"
      ],
      "execution_count": 7,
      "outputs": [
        {
          "output_type": "display_data",
          "data": {
            "image/png": "[encoded data removed]",
            "text/plain": [
              "<Figure size 432x288 with 1 Axes>"
            ]
          },
          "metadata": {
            "tags": [],
            "needs_background": "light"
          }
        }
      ]
    },
    {
      "cell_type": "markdown",
      "metadata": {
        "id": "UwTJFz9qZ83P"
      },
      "source": [
        "###Computation of the emoji sentiment"
      ]
    },
    {
      "cell_type": "code",
      "metadata": {
        "id": "7-1exAdpqF0P"
      },
      "source": [
        "def emoji_sentiment_gen(df, filename):\r\n",
        "  # Unicodes for emojis\r\n",
        "  emoji_unicodes = '[\\U0001F300-\\U0001F64F\\U0001F680-\\U0001F6FF\\u2600-\\u26FF\\u2700-\\u27BF]'\r\n",
        "  reg = re.compile(r'({})|[^a-zA-Z]'.format(emoji_unicodes))\r\n",
        "\r\n",
        "  # Hex codes for possible skin colors\r\n",
        "  emoji_skin_colors = ['\\\\xf0\\\\x9f\\\\x8f\\\\xba', '\\\\xf0\\\\x9f\\\\x8f\\\\xbb', '\\\\xf0\\\\x9f\\\\x8f\\\\xbc', '\\\\xf0\\\\x9f\\\\x8f\\\\xbd', '\\\\xf0\\\\x9f\\\\x8f\\\\xbe', '\\\\xf0\\\\x9f\\\\x8f\\\\xbf']\r\n",
        "\r\n",
        "  for i in range(0, len(df)):\r\n",
        "    message = str(df['message'].iloc[i])\r\n",
        "\r\n",
        "    # Find all emojis in a post caption\r\n",
        "    emoji_array = reg.findall(message)\r\n",
        "    emoji_array = list(filter(None, emoji_array))\r\n",
        "\r\n",
        "    for emoji in emoji_array: \r\n",
        "      emoji_hex = str(emoji.encode('utf-8'))\r\n",
        "      emoji_hex = re.sub(r'^b', '', emoji_hex)\r\n",
        "      emoji_hex = re.sub(\"'\", '', emoji_hex)\r\n",
        "\r\n",
        "      # Remove unknown '?' caused by the skin color of the emoji\r\n",
        "      if emoji_hex in emoji_skin_colors:\r\n",
        "        emoji_array.remove(emoji)\r\n",
        "\r\n",
        "    emojis_sentiment = 0\r\n",
        "    for emoji in emoji_array:\r\n",
        "      try:\r\n",
        "        emojis_sentiment = emojis_sentiment + get_emoji_sentiment_rank(emoji)['sentiment_score']\r\n",
        "      except:\r\n",
        "        emojis_sentiment = emojis_sentiment\r\n",
        "    \r\n",
        "    df['emoji_sentiment'].iloc[i] = emojis_sentiment\r\n",
        "  df.to_excel(filename)\r\n",
        "\r\n",
        "emoji_sentiment_gen(df, \"data/labelled_data.xlsx\")"
      ],
      "execution_count": 8,
      "outputs": []
    },
    {
      "cell_type": "code",
      "metadata": {
        "id": "aWKYrX-QuyQB"
      },
      "source": [
        "df = pd.read_excel(\"data/labelled_data.xlsx\", index_col=0)\r\n",
        "\r\n",
        "messages = df['message'].values\r\n",
        "emoji_sentiment = df['emoji_sentiment'].values\r\n",
        "labels = df['sentiment'].values"
      ],
      "execution_count": 9,
      "outputs": []
    },
    {
      "cell_type": "markdown",
      "metadata": {
        "id": "PjFn8vbraAZU"
      },
      "source": [
        "###Clean the data"
      ]
    },
    {
      "cell_type": "code",
      "metadata": {
        "id": "zFH-7hggvMum"
      },
      "source": [
        "def clean_data(data):\r\n",
        "\r\n",
        "  cleaned_features = []\r\n",
        "\r\n",
        "  for sentence in range(0, len(data)):\r\n",
        "    # Remove hashtags, mentions and urls\r\n",
        "    feature = re.sub(\"(@[A-Za-z0-9]+)|(#[A-Za-z0-9]+)|(\\w+:\\/\\/\\S+)\",\" \", str(data[sentence]))\r\n",
        "\r\n",
        "    # Remove non word characters\r\n",
        "    feature = re.sub(r'\\W+', ' ', feature)\r\n",
        "\r\n",
        "    # Remove all single characters\r\n",
        "    feature= re.sub(r'\\s+[a-zA-Z]\\s+', ' ', feature)\r\n",
        "\r\n",
        "    # Remove single characters from the start\r\n",
        "    feature = re.sub(r'\\^[a-zA-Z]\\s+', ' ', feature) \r\n",
        "\r\n",
        "    # Substituting multiple spaces with single space\r\n",
        "    feature = re.sub(r'\\s+', ' ', feature, flags=re.I)\r\n",
        "\r\n",
        "    # Remove all single characters again\r\n",
        "    feature= re.sub(r'\\s+[a-zA-Z]\\s+', ' ', feature)\r\n",
        "\r\n",
        "    # Removing prefixed 'b'\r\n",
        "    feature = re.sub(r'^b\\s+', '', feature)\r\n",
        "\r\n",
        "    # Converting to Lowercase\r\n",
        "    feature = feature.lower()\r\n",
        "\r\n",
        "    cleaned_features.append(feature)\r\n",
        "\r\n",
        "  return cleaned_features"
      ],
      "execution_count": 10,
      "outputs": []
    },
    {
      "cell_type": "markdown",
      "metadata": {
        "id": "reGPCR2eaLyh"
      },
      "source": [
        "###Remove 'meaningless' words"
      ]
    },
    {
      "cell_type": "code",
      "metadata": {
        "id": "Rgdge4VO1E73"
      },
      "source": [
        "cleaned_messages = clean_data(messages)\r\n",
        "\r\n",
        "def pos_tags_filter(cleaned_messages):\r\n",
        "  # List of POS tags that are not relevant for sentiment analysis\r\n",
        "  delete_tags_list = ['CC', 'CD', 'DT', 'EX', 'FW', 'IN', 'LS', 'MD', 'PDT', 'PRP', 'PRP$', 'TO', 'UH', 'VBP', 'WDT', 'WP$', 'WRB']\r\n",
        "  new_messages = []\r\n",
        "  lemmatizer = WordNetLemmatizer()\r\n",
        "\r\n",
        "  for text in cleaned_messages:\r\n",
        "    tokenized_text = word_tokenize(text)\r\n",
        "    pos_tags = nltk.pos_tag(tokenized_text)\r\n",
        "    new_sentence = ''\r\n",
        "    # Check if the POS tag of a word is 'not wanted' if so do not add the word to the renewed message\r\n",
        "    for word in pos_tags:\r\n",
        "      if word[1] not in delete_tags_list:\r\n",
        "        new_sentence = new_sentence + lemmatizer.lemmatize(word[0]) + ' '\r\n",
        "    new_messages.append(new_sentence)\r\n",
        "  \r\n",
        "  return new_messages\r\n",
        "\r\n",
        "new_messages = pos_tags_filter(cleaned_messages)"
      ],
      "execution_count": 11,
      "outputs": []
    },
    {
      "cell_type": "markdown",
      "metadata": {
        "id": "z8_CQesBaVjJ"
      },
      "source": [
        "###Configure data"
      ]
    },
    {
      "cell_type": "code",
      "metadata": {
        "id": "5_bQvNS78aR1"
      },
      "source": [
        "# Translate raw data to a vector\r\n",
        "tf_idf = TfidfVectorizer(max_features=200, min_df=8, max_df=0.7, stop_words=stopwords.words('english'))\r\n",
        "fit = tf_idf.fit(new_messages)\r\n",
        "voc = tf_idf.get_feature_names()\r\n",
        "num_features = tf_idf.transform(new_messages).toarray()\r\n",
        "\r\n",
        "df1 = pd.DataFrame(num_features)\r\n",
        "df2 = df['emoji_sentiment']\r\n",
        "\r\n",
        "new_df = pd.concat([df1, df2], axis=1)"
      ],
      "execution_count": 12,
      "outputs": []
    },
    {
      "cell_type": "markdown",
      "metadata": {
        "id": "-zhpEbioabqt"
      },
      "source": [
        "###With stratify make sure that all classes are divided equally over the test and train set."
      ]
    },
    {
      "cell_type": "code",
      "metadata": {
        "id": "b2WTtiLHi4aF"
      },
      "source": [
        "# Get the unique labels with its frequency\r\n",
        "def get_class_counts(df):\r\n",
        "  (value, freq) = np.unique(df, return_counts=True)\r\n",
        "  return value, freq\r\n",
        "\r\n",
        "# Calculate the proportions\r\n",
        "def get_class_proportions(df):\r\n",
        "  value, freq = get_class_counts(df)\r\n",
        "  dic = {}\r\n",
        "  for i in range(0,len(value)):\r\n",
        "    dic[value[i]] = round(freq[i]/len(df), 4)\r\n",
        "\r\n",
        "  return dic"
      ],
      "execution_count": 13,
      "outputs": []
    },
    {
      "cell_type": "code",
      "metadata": {
        "id": "7TRCkSx0DD8y",
        "colab": {
          "base_uri": "https://localhost:8080/"
        },
        "outputId": "1afa7a7d-3252-49bc-a080-150aae685d15"
      },
      "source": [
        "X_train, X_test, y_train, y_test = train_test_split(new_df, labels, test_size=0.2, random_state=0, stratify=labels)\r\n",
        "\r\n",
        "# Check if the proportions are equal\r\n",
        "train_proportions = get_class_proportions(y_train)\r\n",
        "test_proportions = get_class_proportions(y_test)\r\n",
        "\r\n",
        "print(train_proportions)\r\n",
        "print(test_proportions)"
      ],
      "execution_count": 14,
      "outputs": [
        {
          "output_type": "stream",
          "text": [
            "{1: 0.0425, 2: 0.1175, 3: 0.5075, 4: 0.26, 5: 0.0725}\n",
            "{1: 0.04, 2: 0.12, 3: 0.51, 4: 0.26, 5: 0.07}\n"
          ],
          "name": "stdout"
        }
      ]
    },
    {
      "cell_type": "markdown",
      "metadata": {
        "id": "5kB4uM9OajP9"
      },
      "source": [
        "###Random Forest"
      ]
    },
    {
      "cell_type": "code",
      "metadata": {
        "colab": {
          "base_uri": "https://localhost:8080/"
        },
        "id": "jSV6yOhKDJCs",
        "outputId": "4ac78de6-14f2-47ab-bcd6-91ebe703490f"
      },
      "source": [
        "rf_classifier = RandomForestClassifier(max_samples=0.7, n_estimators=350, min_samples_split=5)\r\n",
        "rf_classifier.fit(X_train, y_train)"
      ],
      "execution_count": 15,
      "outputs": [
        {
          "output_type": "execute_result",
          "data": {
            "text/plain": [
              "RandomForestClassifier(bootstrap=True, ccp_alpha=0.0, class_weight=None,\n",
              "                       criterion='gini', max_depth=None, max_features='auto',\n",
              "                       max_leaf_nodes=None, max_samples=0.7,\n",
              "                       min_impurity_decrease=0.0, min_impurity_split=None,\n",
              "                       min_samples_leaf=1, min_samples_split=5,\n",
              "                       min_weight_fraction_leaf=0.0, n_estimators=350,\n",
              "                       n_jobs=None, oob_score=False, random_state=None,\n",
              "                       verbose=0, warm_start=False)"
            ]
          },
          "metadata": {
            "tags": []
          },
          "execution_count": 15
        }
      ]
    },
    {
      "cell_type": "code",
      "metadata": {
        "id": "3kdPgxOTDKCx"
      },
      "source": [
        "y_pred_rf = rf_classifier.predict(X_test)"
      ],
      "execution_count": 16,
      "outputs": []
    },
    {
      "cell_type": "code",
      "metadata": {
        "colab": {
          "base_uri": "https://localhost:8080/"
        },
        "id": "WwMeSvVrDN9T",
        "outputId": "51051c42-aeb1-448d-f3a6-4e8b3c06e2a4"
      },
      "source": [
        "print(classification_report(y_test, y_pred_rf, digits=3))\r\n",
        "print(\"Random Forest accuracy: %s\" % accuracy_score(y_test, y_pred_rf))"
      ],
      "execution_count": 23,
      "outputs": [
        {
          "output_type": "stream",
          "text": [
            "              precision    recall  f1-score   support\n",
            "\n",
            "           1      0.000     0.000     0.000         4\n",
            "           2      0.800     0.333     0.471        12\n",
            "           3      0.634     0.882     0.738        51\n",
            "           4      0.522     0.462     0.490        26\n",
            "           5      1.000     0.143     0.250         7\n",
            "\n",
            "    accuracy                          0.620       100\n",
            "   macro avg      0.591     0.364     0.390       100\n",
            "weighted avg      0.625     0.620     0.578       100\n",
            "\n",
            "Random Forest accuracy: 0.62\n"
          ],
          "name": "stdout"
        }
      ]
    },
    {
      "cell_type": "markdown",
      "metadata": {
        "id": "6F5QwQVRappA"
      },
      "source": [
        "###Prediction of remainder of the data"
      ]
    },
    {
      "cell_type": "code",
      "metadata": {
        "colab": {
          "base_uri": "https://localhost:8080/",
          "height": 296
        },
        "id": "_iEGo3rYzCWe",
        "outputId": "6ed44346-a955-46a8-a7b3-2e4095991e33"
      },
      "source": [
        "classifier = RandomForestClassifier(n_estimators=200, random_state=0)\r\n",
        "classifier.fit(new_df, labels)\r\n",
        "\r\n",
        "data = pd.read_excel(\"data/data.xlsx\", index_col=0)\r\n",
        "\r\n",
        "# Compute emoticon sentiment\r\n",
        "emoji_sentiment_gen(data, \"data/data.xlsx\")\r\n",
        "\r\n",
        "messages_data = data['message'].values\r\n",
        "emoji_sentiment_data = data['emoji_sentiment'].values\r\n",
        "\r\n",
        "# Clean the post captions\r\n",
        "cleaned_messages_data = clean_data(messages_data)\r\n",
        "\r\n",
        "# Remove words with irrelevant POS tags\r\n",
        "new_messages_data = pos_tags_filter(cleaned_messages_data)\r\n",
        "\r\n",
        "# Translate raw text to vector\r\n",
        "tf_idf_data = TfidfVectorizer(max_features=200, min_df=8, max_df=0.7, stop_words=stopwords.words('english'), vocabulary=voc)\r\n",
        "num_features_data = tf_idf_data.fit_transform(new_messages_data).toarray()\r\n",
        "df1_data = pd.DataFrame(num_features_data)\r\n",
        "df2_data = data['emoji_sentiment']\r\n",
        "\r\n",
        "new_df_data = pd.concat([df1_data, df2_data], axis=1)\r\n",
        "# Predict the sentiment\r\n",
        "pred_sentiments = classifier.predict(new_df_data)\r\n",
        "data['supervised_sentiment'] = pred_sentiments\r\n",
        "\r\n",
        "plt.hist(data['supervised_sentiment'], bins=5, range=(0.5, 5.5), color='#6E6E6E', alpha=0.7, rwidth=0.85)\r\n",
        "plt.xlabel('Sentiment')\r\n",
        "plt.ylabel('Frequency')\r\n",
        "plt.show()\r\n",
        "\r\n",
        "print(\"Median supervised sentiment: %s\" % data['supervised_sentiment'].median())\r\n",
        "\r\n",
        "data.to_excel(\"data/data.xlsx\")"
      ],
      "execution_count": 25,
      "outputs": [
        {
          "output_type": "display_data",
          "data": {
            "image/png": "[encoded data removed]",
            "text/plain": [
              "<Figure size 432x288 with 1 Axes>"
            ]
          },
          "metadata": {
            "tags": [],
            "needs_background": "light"
          }
        },
        {
          "output_type": "stream",
          "text": [
            "Median supervised sentiment: 3.0\n"
          ],
          "name": "stdout"
        }
      ]
    },
    {
      "cell_type": "markdown",
      "metadata": {
        "id": "7sz6LiH91SXw"
      },
      "source": [
        "##Unsupervised Sentiment Analysis"
      ]
    },
    {
      "cell_type": "markdown",
      "metadata": {
        "id": "DHncqE38dluJ"
      },
      "source": [
        "For this the NLTK vader lexicon was used to compute the sentiment for all the data. With this approach the decision was made to leave the emoji because they can influence the sentiment. "
      ]
    },
    {
      "cell_type": "code",
      "metadata": {
        "id": "rAFGP_Ywpd4C"
      },
      "source": [
        "# Using NLTK vader Lexicon to compute the sentiment\r\n",
        "sid = SentimentIntensityAnalyzer()\r\n",
        "df_all = pd.read_excel(\"data/data.xlsx\", index_col=0)"
      ],
      "execution_count": 26,
      "outputs": []
    },
    {
      "cell_type": "code",
      "metadata": {
        "colab": {
          "base_uri": "https://localhost:8080/"
        },
        "id": "ljK5IUMFrHmg",
        "outputId": "2e208e3e-cff5-41b9-c307-e750cb7f1338"
      },
      "source": [
        "for row in range(0, len(df_all)):\r\n",
        "  message = re.sub(\"(@[A-Za-z0-9]+)|(#[A-Za-z0-9]+)|(\\w+:\\/\\/\\S+)\",\" \", str(df_all['message'].iloc[row]))\r\n",
        "\r\n",
        "  sentiment = sid.polarity_scores(message)['compound']\r\n",
        "\r\n",
        "  df_all['sentiment'].iloc[row] = sentiment\r\n",
        "print(\"Median unsupervised sentiment: %.3f\" % df_all['sentiment'].median())\r\n",
        "df_all.to_excel(\"data/data.xlsx\")"
      ],
      "execution_count": 27,
      "outputs": [
        {
          "output_type": "stream",
          "text": [
            "Median unsupervised sentiment: 0.226\n"
          ],
          "name": "stdout"
        }
      ]
    },
    {
      "cell_type": "markdown",
      "metadata": {
        "id": "Rc-BBYweazrg"
      },
      "source": [
        "##Feature Extraction for correlation"
      ]
    },
    {
      "cell_type": "markdown",
      "metadata": {
        "id": "fb8yuI2mgJCX"
      },
      "source": [
        "###Ratio of likes with respect to number of followers"
      ]
    },
    {
      "cell_type": "code",
      "metadata": {
        "id": "n6n5bh2FhI1T"
      },
      "source": [
        "data = pd.read_excel(\"data/data.xlsx\", index_col=0)\r\n",
        "\r\n",
        "for row in range(0, len(data)):\r\n",
        "  ratio = data['n_likes'].iloc[row]/data['followers'].iloc[row]\r\n",
        "  data['ratio_likes'].iloc[row] = round(ratio, 5)\r\n",
        "\r\n",
        "data.to_excel(\"data/data.xlsx\")"
      ],
      "execution_count": 28,
      "outputs": []
    },
    {
      "cell_type": "markdown",
      "metadata": {
        "id": "IoiwnPE2hMGq"
      },
      "source": [
        "###Number of hashtags"
      ]
    },
    {
      "cell_type": "code",
      "metadata": {
        "id": "aXohNW65hR2C",
        "colab": {
          "base_uri": "https://localhost:8080/",
          "height": 313
        },
        "outputId": "31f779d4-538e-4315-dcdb-a1ef91da2fa2"
      },
      "source": [
        "data = pd.read_excel(\"data/data.xlsx\", index_col=0)\r\n",
        "\r\n",
        "for row in range(0, len(data)):\r\n",
        "  message = re.sub('#x27', '', str(data['message'].iloc[row]))\r\n",
        "  hashtags = re.findall(\"(#[A-Za-z0-9]+)\", message)\r\n",
        "  data['n_hashtags'].iloc[row] = len(hashtags)\r\n",
        "\r\n",
        "plt.hist(data['n_hashtags'], bins = 29, range=[-0.5, 29.5], color='#6E6E6E', alpha=0.7, rwidth=0.85)\r\n",
        "plt.xlabel('Hashtags')\r\n",
        "plt.ylabel('Frequency')\r\n",
        "plt.show()\r\n",
        "\r\n",
        "print(\"Median hashtags: %.3f\" % data['n_hashtags'].median())\r\n",
        "print(\"Average hashtags: %.3f\" % data['n_hashtags'].mean())\r\n",
        "\r\n",
        "data.to_excel(\"data/data.xlsx\")"
      ],
      "execution_count": 29,
      "outputs": [
        {
          "output_type": "display_data",
          "data": {
            "image/png": "[encoded data removed]",
            "text/plain": [
              "<Figure size 432x288 with 1 Axes>"
            ]
          },
          "metadata": {
            "tags": [],
            "needs_background": "light"
          }
        },
        {
          "output_type": "stream",
          "text": [
            "Median hashtags: 0.000\n",
            "Average hashtags: 1.110\n"
          ],
          "name": "stdout"
        }
      ]
    },
    {
      "cell_type": "markdown",
      "metadata": {
        "id": "SX0tk953Wu2s"
      },
      "source": [
        "###Number of mentions"
      ]
    },
    {
      "cell_type": "code",
      "metadata": {
        "id": "JtUJbT_8Wxdk"
      },
      "source": [
        "data_men = pd.read_excel(\"data/data.xlsx\", index_col=0)\r\n",
        "\r\n",
        "for row in range(0, len(data_men)):\r\n",
        "  mentions = re.findall(\"(@[A-Za-z0-9]+)\", str(data_men['message'].iloc[row]))\r\n",
        "  data_men['n_mentions'].iloc[row] = len(mentions)\r\n",
        "\r\n",
        "data_men.to_excel(\"data/data.xlsx\")"
      ],
      "execution_count": 30,
      "outputs": []
    },
    {
      "cell_type": "markdown",
      "metadata": {
        "id": "vPn2EAUHhSIy"
      },
      "source": [
        "##Analysis"
      ]
    },
    {
      "cell_type": "code",
      "metadata": {
        "colab": {
          "base_uri": "https://localhost:8080/",
          "height": 681
        },
        "id": "qj5VFylKljam",
        "outputId": "83ffce1a-4b01-4b40-839f-59e758993ffc"
      },
      "source": [
        "data = pd.read_excel(\"data/data.xlsx\", index_col=0)\r\n",
        "\r\n",
        "# Print general information\r\n",
        "print('Number of images is %s and number of videos is %s' % (len(data[data['message_type'] == 'Image']), len(data[data['message_type'] == 'Video'])))\r\n",
        "print(\"Median number of followers: %s\" % data['followers'].median())\r\n",
        "print(\"Median number of likes: %s\" % data['n_likes'].median())\r\n",
        "\r\n",
        "# Correlation between followers and likes\r\n",
        "plt.scatter(data['followers'], data['n_likes'], color='#adadad')\r\n",
        "plt.xlabel('Followers')\r\n",
        "plt.ylabel('Likes')\r\n",
        "plt.plot(np.unique(data['followers']), np.poly1d(np.polyfit(data['followers'], data['n_likes'], 1))(np.unique(data['followers'])), color='#000000')\r\n",
        "plt.show()\r\n",
        "\r\n",
        "print(\"Correlation of %.3f between followers and likes with a p-value of %.3f\" % (pearsonr(data['n_likes'], data['followers'])[0], pearsonr(data['n_likes'], data['followers'])[1]))\r\n",
        "\r\n",
        "# Correlation between hashtags and likes\r\n",
        "plt.scatter(data['n_hashtags'], data['n_likes'], color='#adadad')\r\n",
        "plt.xlabel('Hashtags')\r\n",
        "plt.ylabel('Likes')\r\n",
        "plt.plot(np.unique(data['n_hashtags']), np.poly1d(np.polyfit(data['n_hashtags'], data['n_likes'], 1))(np.unique(data['n_hashtags'])), color='#000000')\r\n",
        "plt.show()\r\n",
        "\r\n",
        "print(\"Correlation of %.3f between likes ratio and hashtags with a p-value of %.3f\" % (pearsonr(data['n_hashtags'], data['n_likes'])[0], pearsonr(data['n_hashtags'], data['n_likes'])[1]))\r\n",
        "\r\n",
        "# Correlation between sentiment and likes\r\n",
        "print(\"Correlation of %.3f between likes ratio and supervised sentiment with a p-value of %.3f\" % (pearsonr(data['supervised_sentiment'], data['n_likes'])[0], pearsonr(data['supervised_sentiment'], data['n_likes'])[1]))\r\n",
        "print(\"Correlation of %.3f between likes ratio and unsupervised sentiment with a p-value of %.3f\" % (pearsonr(data['n_likes'], data['sentiment'])[0], pearsonr(data['n_likes'], data['sentiment'])[1]))\r\n"
      ],
      "execution_count": 32,
      "outputs": [
        {
          "output_type": "stream",
          "text": [
            "Number of images is 994 and number of videos is 453\n",
            "Median number of followers: 46252972.0\n",
            "Median number of likes: 1024721.0\n"
          ],
          "name": "stdout"
        },
        {
          "output_type": "display_data",
          "data": {
            "image/png": "[encoded data removed]",
            "text/plain": [
              "<Figure size 432x288 with 1 Axes>"
            ]
          },
          "metadata": {
            "tags": [],
            "needs_background": "light"
          }
        },
        {
          "output_type": "stream",
          "text": [
            "Correlation of 0.327 between followers and likes with a p-value of 0.000\n"
          ],
          "name": "stdout"
        },
        {
          "output_type": "display_data",
          "data": {
            "image/png": "[encoded data removed]",
            "text/plain": [
              "<Figure size 432x288 with 1 Axes>"
            ]
          },
          "metadata": {
            "tags": [],
            "needs_background": "light"
          }
        },
        {
          "output_type": "stream",
          "text": [
            "Correlation of -0.134 between likes ratio and hashtags with a p-value of 0.000\n",
            "Correlation of -0.004 between likes ratio and supervised sentiment with a p-value of 0.890\n",
            "Correlation of -0.048 between likes ratio and unsupervised sentiment with a p-value of 0.067\n"
          ],
          "name": "stdout"
        }
      ]
    }
  ]
}